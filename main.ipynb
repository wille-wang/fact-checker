{
  "cells": [
    {
      "cell_type": "markdown",
      "metadata": {
        "id": "n1vS9aDV5D6z"
      },
      "source": [
        "## System Settings"
      ]
    },
    {
      "cell_type": "markdown",
      "metadata": {
        "id": "1zvoqTc9Az-G"
      },
      "source": [
        "### Working Directory Setting"
      ]
    },
    {
      "cell_type": "code",
      "execution_count": 78,
      "metadata": {
        "colab": {
          "base_uri": "https://localhost:8080/"
        },
        "id": "cGCsc2bQnvjO",
        "outputId": "9a43ef6f-5ced-4455-ea67-21c1859d5056"
      },
      "outputs": [
        {
          "name": "stdout",
          "output_type": "stream",
          "text": [
            "/content/drive/MyDrive/fact-checker\n"
          ]
        }
      ],
      "source": [
        "import os\n",
        "\n",
        "\n",
        "# Set the current working directory\n",
        "os.chdir(\"/content/drive/MyDrive/fact-checker\")\n",
        "print(os.getcwd())"
      ]
    },
    {
      "cell_type": "markdown",
      "metadata": {
        "id": "Ddueludu_-Oy"
      },
      "source": [
        "### GPU Activation"
      ]
    },
    {
      "cell_type": "code",
      "execution_count": 79,
      "metadata": {
        "colab": {
          "base_uri": "https://localhost:8080/"
        },
        "id": "Dl013nAIg6bj",
        "outputId": "4413dfad-e4ea-4fb2-9a9b-a6a42252e9b3"
      },
      "outputs": [
        {
          "name": "stdout",
          "output_type": "stream",
          "text": [
            "GPU is available and enabled.\n"
          ]
        }
      ],
      "source": [
        "import torch\n",
        "\n",
        "\n",
        "# Activate the GPU\n",
        "if torch.cuda.is_available():\n",
        "    device = torch.device(\"cuda\")\n",
        "    print(\"GPU is available and enabled.\")\n",
        "else:\n",
        "    device = torch.device(\"cpu\")\n",
        "    print(\"GPU is not available. CPU is being used.\")"
      ]
    },
    {
      "cell_type": "markdown",
      "metadata": {
        "id": "9JU8GA4u5GZP"
      },
      "source": [
        "## Preprocessing"
      ]
    },
    {
      "cell_type": "markdown",
      "metadata": {
        "id": "Q5AOjWjs_Ld2"
      },
      "source": [
        "### Concatenation"
      ]
    },
    {
      "cell_type": "code",
      "execution_count": 80,
      "metadata": {
        "id": "id6l5lFTqjPB"
      },
      "outputs": [],
      "source": [
        "import json\n",
        "\n",
        "# Map string labels onto numerical labels\n",
        "label_map = {\n",
        "    \"REFUTES\": 0,\n",
        "    \"SUPPORTS\": 1,\n",
        "    \"DISPUTED\": 2,\n",
        "    \"NOT_ENOUGH_INFO\": 3,\n",
        "}\n",
        "\n",
        "# Concatenate a claim with its evidence\n",
        "def concat_claim_evidence(claim_path, evidence_path=\"data/evidence.json\"):\n",
        "    ids = []\n",
        "    texts = []\n",
        "    labels = []\n",
        "\n",
        "    # Load the evidence file\n",
        "    with open(evidence_path, \"r\") as e:\n",
        "        evidence_data = json.load(e)\n",
        "\n",
        "    # Load the claim file\n",
        "    with open(claim_path, \"r\") as c:\n",
        "        claim_data = json.load(c)\n",
        "\n",
        "        for claim_key, claim_val in claim_data.items():\n",
        "            ids.append(claim_key)\n",
        "            evidence_ids = (claim_val[\"evidences\"])\n",
        "            labels.append(label_map[claim_val[\"claim_label\"]])\n",
        "\n",
        "            # Concatenate a claim with its evidence\n",
        "            text = \"[CLS] \" + claim_val[\"claim_text\"] + \" [SEP] \"\n",
        "            for evidence_id in evidence_ids:\n",
        "                text += evidence_data[evidence_id] + \" [SEP] \"\n",
        "            texts.append(text)\n",
        "\n",
        "    return ids, texts, labels,\n",
        "\n",
        "\n",
        "# Standardize the training data\n",
        "train_data_path = \"data/train-claims.json\"\n",
        "train_ids, train_texts, train_labels = concat_claim_evidence(train_data_path)\n",
        "train_labels_tensor = torch.tensor(train_labels)\n",
        "\n",
        "# Standardize the development data\n",
        "dev_data_path = \"data/dev-claims.json\"\n",
        "dev_ids, dev_texts, dev_labels = concat_claim_evidence(dev_data_path)\n",
        "dev_labels_tensor = torch.tensor(dev_labels)"
      ]
    },
    {
      "cell_type": "markdown",
      "metadata": {
        "id": "NL99TTYj_OgY"
      },
      "source": [
        "### Encoding"
      ]
    },
    {
      "cell_type": "code",
      "execution_count": 81,
      "metadata": {
        "id": "VKqz_db3_IxP"
      },
      "outputs": [],
      "source": [
        "from transformers import BertModel, BertTokenizer\n",
        "\n",
        "\n",
        "bert_model_name = \"bert-base-uncased\"\n",
        "\n",
        "# Tokenize and encode the texts\n",
        "tokenizer = BertTokenizer.from_pretrained(bert_model_name)\n",
        "train_encodings = tokenizer(\n",
        "    train_texts,\n",
        "    truncation=True,\n",
        "    padding=True,\n",
        "    max_length=128,\n",
        "    return_tensors=\"pt\"\n",
        ")\n",
        "dev_encodings = tokenizer(\n",
        "    dev_texts,\n",
        "    truncation=True,\n",
        "    padding=True,\n",
        "    max_length=128,\n",
        "    return_tensors=\"pt\"\n",
        ")"
      ]
    },
    {
      "cell_type": "markdown",
      "metadata": {
        "id": "z7pLZn7V_zQg"
      },
      "source": [
        "### Tensor Dataset and Data Loader Creation"
      ]
    },
    {
      "cell_type": "code",
      "execution_count": 82,
      "metadata": {
        "id": "DcwHbfXk_jpQ"
      },
      "outputs": [],
      "source": [
        "from torch.utils.data import DataLoader, TensorDataset\n",
        "\n",
        "\n",
        "# Create DataLoaders for batching\n",
        "train_dataset = TensorDataset(\n",
        "    train_encodings[\"input_ids\"],\n",
        "    train_encodings[\"attention_mask\"],\n",
        "    torch.tensor(train_labels)\n",
        ")\n",
        "train_loader = DataLoader(\n",
        "    train_dataset,\n",
        "    batch_size=16,\n",
        "    shuffle=True\n",
        ")\n",
        "\n",
        "dev_dataset = TensorDataset(\n",
        "    dev_encodings[\"input_ids\"],\n",
        "    dev_encodings[\"attention_mask\"],\n",
        "    torch.tensor(dev_labels)\n",
        ")\n",
        "dev_loader = DataLoader(\n",
        "    dev_dataset,\n",
        "    batch_size=16,\n",
        "    shuffle=False\n",
        ")"
      ]
    },
    {
      "cell_type": "markdown",
      "metadata": {
        "id": "raCRPKBpr3Ed"
      },
      "source": [
        "## Training"
      ]
    },
    {
      "cell_type": "markdown",
      "metadata": {
        "id": "gbV9QZ8FAG8D"
      },
      "source": [
        "### Neural Network Implementation"
      ]
    },
    {
      "cell_type": "code",
      "execution_count": 83,
      "metadata": {
        "id": "1e5CbMEJ-dlw"
      },
      "outputs": [],
      "source": [
        "import torch.nn as nn\n",
        "import torch.optim as optim\n",
        "\n",
        "\n",
        "# Define a classifier using BERT\n",
        "class BERTClassifier(nn.Module):\n",
        "    def __init__(self, bert_model_name, num_classes, dropout_prob=0.3):\n",
        "        super(BERTClassifier, self).__init__()\n",
        "        self.bert = BertModel.from_pretrained(bert_model_name)\n",
        "        self.dropout = nn.Dropout(dropout_prob)\n",
        "        self.fc = nn.Linear(self.bert.config.hidden_size, num_classes)\n",
        "\n",
        "    def forward(self, input_ids, attention_mask):\n",
        "        outputs = self.bert(input_ids=input_ids, attention_mask=attention_mask)\n",
        "        pooled_output = outputs.pooler_output\n",
        "        x = self.dropout(pooled_output)\n",
        "        return self.fc(x)\n",
        "\n",
        "\n",
        "# Initialize the classifier\n",
        "num_classes = 4\n",
        "classifier = BERTClassifier(bert_model_name, num_classes).to(device)\n",
        "\n",
        "# Define loss function and optimizer\n",
        "criterion = nn.CrossEntropyLoss()\n",
        "optimizer = optim.Adam(classifier.parameters(), lr=2e-5)"
      ]
    },
    {
      "cell_type": "markdown",
      "metadata": {
        "id": "h_7TD2DcANFo"
      },
      "source": [
        "### Training"
      ]
    },
    {
      "cell_type": "code",
      "execution_count": 84,
      "metadata": {
        "colab": {
          "base_uri": "https://localhost:8080/"
        },
        "id": "ehzG7HiD2F0Y",
        "outputId": "269157f7-e8aa-44e6-8a9e-e8808fb35dff"
      },
      "outputs": [
        {
          "name": "stdout",
          "output_type": "stream",
          "text": [
            "Epoch 1/10, Loss: 1.2875462801425488\n",
            "Epoch 2/10, Loss: 1.2004851435686086\n",
            "Epoch 3/10, Loss: 0.9796171312208299\n",
            "Epoch 4/10, Loss: 0.7114652824866308\n",
            "Epoch 5/10, Loss: 0.44251944840728463\n",
            "Epoch 6/10, Loss: 0.2555160899828007\n",
            "Epoch 7/10, Loss: 0.17438264943465784\n",
            "Epoch 8/10, Loss: 0.0923474689510155\n",
            "Epoch 9/10, Loss: 0.07862900562777922\n",
            "Epoch 10/10, Loss: 0.043048426146050554\n"
          ]
        }
      ],
      "source": [
        "epochs = 10\n",
        "for epoch in range(epochs):\n",
        "    classifier.train()\n",
        "    total_loss = 0\n",
        "    for batch in train_loader:\n",
        "        optimizer.zero_grad()\n",
        "        input_ids, attention_mask, labels = [x.to(device) for x in batch]\n",
        "        outputs = classifier(input_ids, attention_mask)\n",
        "        loss = criterion(outputs, labels)\n",
        "        loss.backward()\n",
        "        optimizer.step()\n",
        "        total_loss += loss.item()\n",
        "\n",
        "    print(f\"Epoch {epoch+1}/{epochs}, Loss: {total_loss/len(train_loader)}\")"
      ]
    },
    {
      "cell_type": "markdown",
      "metadata": {
        "id": "ufdzpT1zvEDa"
      },
      "source": [
        "## Evaluation"
      ]
    },
    {
      "cell_type": "markdown",
      "metadata": {
        "id": "7zpziDTVAPdp"
      },
      "source": [
        "### Accuracy and F1"
      ]
    },
    {
      "cell_type": "code",
      "execution_count": 85,
      "metadata": {
        "colab": {
          "base_uri": "https://localhost:8080/"
        },
        "id": "xib95yKOtVjA",
        "outputId": "0ea975b7-c513-4648-ef05-48742f0ccfce"
      },
      "outputs": [
        {
          "name": "stdout",
          "output_type": "stream",
          "text": [
            "Validation accuracy: 0.4935064935064935\n",
            "Validation F1 score: 0.4623716323917531\n"
          ]
        }
      ],
      "source": [
        "from sklearn.metrics import accuracy_score, f1_score\n",
        "\n",
        "\n",
        "classifier.eval()\n",
        "all_preds = []\n",
        "all_labels = []\n",
        "\n",
        "with torch.no_grad():\n",
        "    for batch in dev_loader:\n",
        "        input_ids, attention_mask, labels = [x.to(device) for x in batch]\n",
        "        outputs = classifier(input_ids, attention_mask)\n",
        "        _, predicted = torch.max(outputs, 1)\n",
        "        all_preds.extend(predicted.cpu().numpy())\n",
        "        all_labels.extend(labels.cpu().numpy())\n",
        "\n",
        "accuracy = accuracy_score(all_labels, all_preds)\n",
        "f1 = f1_score(all_labels, all_preds, average=\"weighted\")\n",
        "print(f\"Validation accuracy: {accuracy}\")\n",
        "print(f\"Validation F1 score: {f1}\")"
      ]
    },
    {
      "cell_type": "markdown",
      "metadata": {
        "id": "hSymFFliAS1X"
      },
      "source": [
        "### Visualization"
      ]
    },
    {
      "cell_type": "code",
      "execution_count": 86,
      "metadata": {
        "colab": {
          "base_uri": "https://localhost:8080/",
          "height": 452
        },
        "id": "GVNLq3a1EttZ",
        "outputId": "a25ad9d8-f3bb-4f9a-a31b-50920bf6d7f3"
      },
      "outputs": [
        {
          "data": {
            "image/png": "[encoded data removed]",
            "text/plain": [
              "<Figure size 640x480 with 1 Axes>"
            ]
          },
          "metadata": {},
          "output_type": "display_data"
        }
      ],
      "source": [
        "from collections import Counter\n",
        "import numpy as np\n",
        "import matplotlib.pyplot as plt\n",
        "\n",
        "# Convert tensors to numpy arrays\n",
        "true_labels = dev_labels_tensor.cpu().numpy()\n",
        "predicted_labels = predicted.cpu().numpy()\n",
        "\n",
        "# Calculate the label distribution for true labels\n",
        "true_label_counts = Counter(true_labels)\n",
        "total_true = sum(true_label_counts.values())\n",
        "true_label_percentage = [\n",
        "    (true_label_counts[i] / total_true) * 100 for i in range(len(label_map))\n",
        "]\n",
        "\n",
        "# Calculate the label distribution for predicted labels\n",
        "predicted_label_counts = Counter(predicted_labels)\n",
        "total_predicted = sum(predicted_label_counts.values())\n",
        "predicted_label_percentage = [\n",
        "    (predicted_label_counts[i] / total_predicted) * 100 for i in range(len(label_map))\n",
        "]\n",
        "\n",
        "# Set the plot parameters\n",
        "labels = list(label_map.keys())\n",
        "x = np.arange(len(labels))\n",
        "width = 0.35\n",
        "\n",
        "# Create the plot\n",
        "fig, ax = plt.subplots()\n",
        "ax.bar(\n",
        "    x - width/2,\n",
        "    true_label_percentage,\n",
        "    width,\n",
        "    label=\"True Labels\",\n",
        "    color=\"blue\"\n",
        ")\n",
        "ax.bar(\n",
        "    x + width/2,\n",
        "    predicted_label_percentage,\n",
        "    width,\n",
        "    label=\"Predicted Labels\",\n",
        "    color=\"orange\"\n",
        ")\n",
        "\n",
        "# Customize the plot\n",
        "ax.set_ylabel(\"%\")\n",
        "ax.set_title(\"Label Distribution (%)\")\n",
        "ax.set_xticks(x)\n",
        "ax.set_xticklabels(labels)\n",
        "ax.legend()\n",
        "\n",
        "# Show the plot\n",
        "plt.show()"
      ]
    }
  ],
  "metadata": {
    "accelerator": "GPU",
    "colab": {
      "gpuType": "T4",
      "provenance": []
    },
    "kernelspec": {
      "display_name": "Python 3",
      "name": "python3"
    },
    "language_info": {
      "name": "python"
    }
  },
  "nbformat": 4,
  "nbformat_minor": 0
}
